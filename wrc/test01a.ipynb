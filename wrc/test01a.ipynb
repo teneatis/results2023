{
 "cells": [
  {
   "cell_type": "code",
   "execution_count": 49,
   "id": "0daec40b-b170-418d-97ef-f0476260513e",
   "metadata": {},
   "outputs": [],
   "source": [
    "import urllib.request\n",
    "from bs4 import BeautifulSoup as soup\n",
    "import requests\n",
    "import re\n",
    "import pandas as pd\n",
    "ss = '11'\n",
    "link = 'http://rallyliveresults.com/wrc/?stage'"
   ]
  },
  {
   "cell_type": "code",
   "execution_count": 50,
   "id": "452db5e6-11a0-4fe6-864b-de7c6b45607e",
   "metadata": {},
   "outputs": [],
   "source": [
    "my_url11 = 'http://rallyliveresults.com/wrc/?stage'+ss\n",
    "req = urllib.request.Request(my_url11, headers={'User-Agent': 'Mozilla/5.0'})\n",
    "uClient11 = urllib.request.urlopen(req)\n",
    "page_html11 = uClient11.read()\n",
    "uClient11.close()\n",
    "\n",
    "page_soup2 = soup(page_html11, \"html.parser\")\n",
    "table = page_soup2.find('table')\n",
    "table = str(table)\n",
    "table = re.sub(r'<img.*?>','', table)\n",
    "table = re.sub(r'\\n','', table)\n",
    "table = soup(table, \"html.parser\")\n",
    "#table"
   ]
  },
  {
   "cell_type": "code",
   "execution_count": 51,
   "id": "7cf09f2e-a119-4bcb-9e09-5e235b15221a",
   "metadata": {},
   "outputs": [
    {
     "data": {
      "text/plain": [
       "['Pos.', 'Pilote / Co-pilote', 'Voiture', '#', 'Temps', 'Écart']"
      ]
     },
     "execution_count": 51,
     "metadata": {},
     "output_type": "execute_result"
    }
   ],
   "source": [
    "headers = []\n",
    "for i in table.find_all('th'):\n",
    " title = i.text\n",
    " headers.append(title)\n",
    "headers"
   ]
  },
  {
   "cell_type": "code",
   "execution_count": 52,
   "id": "ea590249-9fc0-449e-b7d1-d9010ceea7a0",
   "metadata": {},
   "outputs": [],
   "source": [
    "monte_2 = pd.DataFrame(columns=headers)"
   ]
  },
  {
   "cell_type": "code",
   "execution_count": 53,
   "id": "f25456aa-3fa6-4e69-9272-aebdbb6301fc",
   "metadata": {},
   "outputs": [],
   "source": [
    "for j in table.find_all('tr')[1:]:\n",
    "    row_data = j.find_all('td')\n",
    "    row = [i.text for i in row_data]\n",
    "    length = len(monte_2)\n",
    "    monte_2.loc[length]=row"
   ]
  },
  {
   "cell_type": "code",
   "execution_count": 54,
   "id": "fcfab7b9-949b-41be-976b-ba1509bcfbee",
   "metadata": {},
   "outputs": [],
   "source": [
    "monte_2['ss']=ss\n",
    "monte_2.to_csv('monte23_SS'+ss+'.csv',index=False)"
   ]
  },
  {
   "cell_type": "code",
   "execution_count": 55,
   "id": "8c42f272-e964-4f29-89d9-d098a90c8b71",
   "metadata": {},
   "outputs": [],
   "source": [
    "my_url11 = 'http://rallyliveresults.com/wrc/?stage'+\"12\"\n",
    "req = urllib.request.Request(my_url11, headers={'User-Agent': 'Mozilla/5.0'})\n",
    "uClient11 = urllib.request.urlopen(req)\n",
    "page_html11 = uClient11.read()\n",
    "uClient11.close()\n",
    "\n",
    "page_soup2 = soup(page_html11, \"html.parser\")\n",
    "table = page_soup2.find('table')\n",
    "table = str(table)\n",
    "table = re.sub(r'<img.*?>','', table)\n",
    "table = re.sub(r'\\n','', table)\n",
    "table = soup(table, \"html.parser\")\n",
    "#table"
   ]
  },
  {
   "cell_type": "code",
   "execution_count": 56,
   "id": "04a0b80b-7ae9-45de-885a-da07a0a57042",
   "metadata": {},
   "outputs": [
    {
     "ename": "SyntaxError",
     "evalue": "invalid syntax. Perhaps you forgot a comma? (2332978417.py, line 4)",
     "output_type": "error",
     "traceback": [
      "\u001b[1;36m  Cell \u001b[1;32mIn[56], line 4\u001b[1;36m\u001b[0m\n\u001b[1;33m    headers.append(timonte_2 = pd.DataFrame(columns=headers)tle)\u001b[0m\n\u001b[1;37m                               ^\u001b[0m\n\u001b[1;31mSyntaxError\u001b[0m\u001b[1;31m:\u001b[0m invalid syntax. Perhaps you forgot a comma?\n"
     ]
    }
   ],
   "source": [
    "headers = []\n",
    "for i in table.find_all('th'):\n",
    " title = i.text\n",
    " headers.append(timonte_2 = pd.DataFrame(columns=headers)tle)\n",
    "headers"
   ]
  },
  {
   "cell_type": "code",
   "execution_count": 57,
   "id": "da5a600e-5046-4b7c-99dd-8daac57c3ed7",
   "metadata": {},
   "outputs": [],
   "source": [
    "monte_2a = pd.DataFrame(columns=headers)"
   ]
  },
  {
   "cell_type": "code",
   "execution_count": 58,
   "id": "c5d3b0ed-4c6f-4d9f-94f6-c7651623b279",
   "metadata": {},
   "outputs": [],
   "source": [
    "for j in table.find_all('tr')[1:]:\n",
    "    row_data = j.find_all('td')\n",
    "    row = [i.text for i in row_data]\n",
    "    length = len(monte_2a)\n",
    "    monte_2a.loc[length]=row"
   ]
  },
  {
   "cell_type": "code",
   "execution_count": 59,
   "id": "5ed717d9-4232-4fb3-916d-498777d8d4a3",
   "metadata": {},
   "outputs": [
    {
     "data": {
      "text/html": [
       "<div>\n",
       "<style scoped>\n",
       "    .dataframe tbody tr th:only-of-type {\n",
       "        vertical-align: middle;\n",
       "    }\n",
       "\n",
       "    .dataframe tbody tr th {\n",
       "        vertical-align: top;\n",
       "    }\n",
       "\n",
       "    .dataframe thead th {\n",
       "        text-align: right;\n",
       "    }\n",
       "</style>\n",
       "<table border=\"1\" class=\"dataframe\">\n",
       "  <thead>\n",
       "    <tr style=\"text-align: right;\">\n",
       "      <th></th>\n",
       "      <th>Pos.</th>\n",
       "      <th>Pilote / Co-pilote</th>\n",
       "      <th>Voiture</th>\n",
       "      <th>#</th>\n",
       "      <th>Temps</th>\n",
       "      <th>Écart</th>\n",
       "    </tr>\n",
       "  </thead>\n",
       "  <tbody>\n",
       "    <tr>\n",
       "      <th>0</th>\n",
       "      <td>1</td>\n",
       "      <td>Sébastien OGIER Vincent LANDAIS</td>\n",
       "      <td>Toyota GR Yaris Rally1 HYBRID</td>\n",
       "      <td>17</td>\n",
       "      <td>02:27:11.5</td>\n",
       "      <td>+00:00:00</td>\n",
       "    </tr>\n",
       "    <tr>\n",
       "      <th>1</th>\n",
       "      <td>2</td>\n",
       "      <td>Kalle ROVANPERÄ Jonne HALTTUNEN</td>\n",
       "      <td>Toyota GR Yaris Rally1 HYBRID</td>\n",
       "      <td>69</td>\n",
       "      <td>02:27:27.5</td>\n",
       "      <td>+00:00:16</td>\n",
       "    </tr>\n",
       "    <tr>\n",
       "      <th>2</th>\n",
       "      <td>3</td>\n",
       "      <td>Thierry NEUVILLE Martijn WYDAEGHE</td>\n",
       "      <td>Hyundai i20 N Rally1 HYBRID</td>\n",
       "      <td>11</td>\n",
       "      <td>02:27:43.5</td>\n",
       "      <td>+00:00:32</td>\n",
       "    </tr>\n",
       "    <tr>\n",
       "      <th>3</th>\n",
       "      <td>4</td>\n",
       "      <td>Elfyn EVANS Scott MARTIN</td>\n",
       "      <td>Toyota GR Yaris Rally1 HYBRID</td>\n",
       "      <td>33</td>\n",
       "      <td>02:28:8</td>\n",
       "      <td>+00:00:56.5</td>\n",
       "    </tr>\n",
       "    <tr>\n",
       "      <th>4</th>\n",
       "      <td>5</td>\n",
       "      <td>Ott TÄNAK Martin JÄRVEOJA</td>\n",
       "      <td>Ford Puma Rally1 HYBRID</td>\n",
       "      <td>8</td>\n",
       "      <td>02:28:48.8</td>\n",
       "      <td>+00:01:37.3</td>\n",
       "    </tr>\n",
       "    <tr>\n",
       "      <th>...</th>\n",
       "      <td>...</td>\n",
       "      <td>...</td>\n",
       "      <td>...</td>\n",
       "      <td>...</td>\n",
       "      <td>...</td>\n",
       "      <td>...</td>\n",
       "    </tr>\n",
       "    <tr>\n",
       "      <th>66</th>\n",
       "      <td>67</td>\n",
       "      <td>Daniel ALONSO Adrián PÉREZ</td>\n",
       "      <td>Citroen C3</td>\n",
       "      <td>41</td>\n",
       "      <td>03:44:53.6</td>\n",
       "      <td>+01:17:42.1</td>\n",
       "    </tr>\n",
       "    <tr>\n",
       "      <th>67</th>\n",
       "      <td>68</td>\n",
       "      <td>Giorgio MARAZZATO Elisa SOMMARIVA</td>\n",
       "      <td>Peugeot 208</td>\n",
       "      <td>77</td>\n",
       "      <td>03:48:16.8</td>\n",
       "      <td>+01:21:5.3</td>\n",
       "    </tr>\n",
       "    <tr>\n",
       "      <th>68</th>\n",
       "      <td>69</td>\n",
       "      <td>Grégory FONTALBA Stéphan HERMET</td>\n",
       "      <td>Alpine A110</td>\n",
       "      <td>65</td>\n",
       "      <td>03:49:2.8</td>\n",
       "      <td>+01:21:51.3</td>\n",
       "    </tr>\n",
       "    <tr>\n",
       "      <th>69</th>\n",
       "      <td>70</td>\n",
       "      <td>Marc DESSI Pamela DESSI</td>\n",
       "      <td>Renault Clio RS Line</td>\n",
       "      <td>86</td>\n",
       "      <td>03:51:2.7</td>\n",
       "      <td>+01:23:51.2</td>\n",
       "    </tr>\n",
       "    <tr>\n",
       "      <th>70</th>\n",
       "      <td>71</td>\n",
       "      <td>Grégory DAL ZOTTO Hervé DUBREUIL</td>\n",
       "      <td>Peugeot 208 Rally4</td>\n",
       "      <td>70</td>\n",
       "      <td>04:07:43</td>\n",
       "      <td>+01:40:31.5</td>\n",
       "    </tr>\n",
       "  </tbody>\n",
       "</table>\n",
       "<p>71 rows × 6 columns</p>\n",
       "</div>"
      ],
      "text/plain": [
       "   Pos.                  Pilote / Co-pilote                        Voiture  \\\n",
       "0     1     Sébastien OGIER Vincent LANDAIS  Toyota GR Yaris Rally1 HYBRID   \n",
       "1     2     Kalle ROVANPERÄ Jonne HALTTUNEN  Toyota GR Yaris Rally1 HYBRID   \n",
       "2     3   Thierry NEUVILLE Martijn WYDAEGHE    Hyundai i20 N Rally1 HYBRID   \n",
       "3     4            Elfyn EVANS Scott MARTIN  Toyota GR Yaris Rally1 HYBRID   \n",
       "4     5           Ott TÄNAK Martin JÄRVEOJA        Ford Puma Rally1 HYBRID   \n",
       "..  ...                                 ...                            ...   \n",
       "66   67          Daniel ALONSO Adrián PÉREZ                     Citroen C3   \n",
       "67   68   Giorgio MARAZZATO Elisa SOMMARIVA                    Peugeot 208   \n",
       "68   69     Grégory FONTALBA Stéphan HERMET                    Alpine A110   \n",
       "69   70             Marc DESSI Pamela DESSI           Renault Clio RS Line   \n",
       "70   71    Grégory DAL ZOTTO Hervé DUBREUIL             Peugeot 208 Rally4   \n",
       "\n",
       "     #       Temps        Écart  \n",
       "0   17  02:27:11.5    +00:00:00  \n",
       "1   69  02:27:27.5    +00:00:16  \n",
       "2   11  02:27:43.5    +00:00:32  \n",
       "3   33     02:28:8  +00:00:56.5  \n",
       "4    8  02:28:48.8  +00:01:37.3  \n",
       "..  ..         ...          ...  \n",
       "66  41  03:44:53.6  +01:17:42.1  \n",
       "67  77  03:48:16.8   +01:21:5.3  \n",
       "68  65   03:49:2.8  +01:21:51.3  \n",
       "69  86   03:51:2.7  +01:23:51.2  \n",
       "70  70    04:07:43  +01:40:31.5  \n",
       "\n",
       "[71 rows x 6 columns]"
      ]
     },
     "execution_count": 59,
     "metadata": {},
     "output_type": "execute_result"
    }
   ],
   "source": [
    "monte_2a"
   ]
  },
  {
   "cell_type": "code",
   "execution_count": 61,
   "id": "4f49ab26-fb07-4ba5-aab4-5bd6655fcc90",
   "metadata": {},
   "outputs": [],
   "source": [
    "monte_2a['ss']=12\n",
    "monte_2a.to_csv('monte23_SS'+'12'+'.csv',index=False)"
   ]
  }
 ],
 "metadata": {
  "kernelspec": {
   "display_name": "Python 3 (ipykernel)",
   "language": "python",
   "name": "python3"
  },
  "language_info": {
   "codemirror_mode": {
    "name": "ipython",
    "version": 3
   },
   "file_extension": ".py",
   "mimetype": "text/x-python",
   "name": "python",
   "nbconvert_exporter": "python",
   "pygments_lexer": "ipython3",
   "version": "3.11.1"
  }
 },
 "nbformat": 4,
 "nbformat_minor": 5
}
