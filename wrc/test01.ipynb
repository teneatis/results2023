{
 "cells": [
  {
   "cell_type": "code",
   "execution_count": 1,
   "id": "0daec40b-b170-418d-97ef-f0476260513e",
   "metadata": {},
   "outputs": [],
   "source": [
    "import urllib.request\n",
    "from bs4 import BeautifulSoup as soup\n",
    "import requests\n",
    "import re\n",
    "import pandas as pd"
   ]
  },
  {
   "cell_type": "code",
   "execution_count": 2,
   "id": "452db5e6-11a0-4fe6-864b-de7c6b45607e",
   "metadata": {},
   "outputs": [
    {
     "data": {
      "text/plain": [
       "bs4.element.Tag"
      ]
     },
     "execution_count": 2,
     "metadata": {},
     "output_type": "execute_result"
    }
   ],
   "source": [
    "my_url11 = 'http://rallyliveresults.com/wrc/?stage=11'\n",
    "req = urllib.request.Request(my_url11, headers={'User-Agent': 'Mozilla/5.0'})\n",
    "uClient11 = urllib.request.urlopen(req)\n",
    "page_html11 = uClient11.read()\n",
    "uClient11.close()\n",
    "\n",
    "page_soup2 = soup(page_html11, \"html.parser\")\n",
    "table = page_soup2.find('table')\n",
    "type(table)"
   ]
  },
  {
   "cell_type": "code",
   "execution_count": 3,
   "id": "1bcc6d65-4166-46ac-9002-5edf9216d134",
   "metadata": {},
   "outputs": [],
   "source": [
    "table0 = str(table)\n",
    "table2 = re.sub(r'<img.*?>','', table0)\n",
    "table2 = re.sub(r'\\n','', table2)\n",
    "table3 = soup(table2, \"html.parser\")"
   ]
  },
  {
   "cell_type": "code",
   "execution_count": 4,
   "id": "7cf09f2e-a119-4bcb-9e09-5e235b15221a",
   "metadata": {},
   "outputs": [
    {
     "data": {
      "text/plain": [
       "['Pos.', 'Pilote / Co-pilote', 'Voiture', '#', 'Temps', 'Écart']"
      ]
     },
     "execution_count": 4,
     "metadata": {},
     "output_type": "execute_result"
    }
   ],
   "source": [
    "headers = []\n",
    "for i in table3.find_all('th'):\n",
    " title = i.text\n",
    " headers.append(title)\n",
    "headers"
   ]
  },
  {
   "cell_type": "code",
   "execution_count": 5,
   "id": "ea590249-9fc0-449e-b7d1-d9010ceea7a0",
   "metadata": {},
   "outputs": [],
   "source": [
    "monte_2 = pd.DataFrame(columns=headers)"
   ]
  },
  {
   "cell_type": "code",
   "execution_count": 6,
   "id": "f25456aa-3fa6-4e69-9272-aebdbb6301fc",
   "metadata": {},
   "outputs": [],
   "source": [
    "for j in table3.find_all('tr')[1:]:\n",
    "    row_data = j.find_all('td')\n",
    "    row = [i.text for i in row_data]\n",
    "    length = len(monte_2)\n",
    "    monte_2.loc[length]=row"
   ]
  },
  {
   "cell_type": "code",
   "execution_count": 8,
   "id": "fcfab7b9-949b-41be-976b-ba1509bcfbee",
   "metadata": {},
   "outputs": [
    {
     "data": {
      "text/html": [
       "<div>\n",
       "<style scoped>\n",
       "    .dataframe tbody tr th:only-of-type {\n",
       "        vertical-align: middle;\n",
       "    }\n",
       "\n",
       "    .dataframe tbody tr th {\n",
       "        vertical-align: top;\n",
       "    }\n",
       "\n",
       "    .dataframe thead th {\n",
       "        text-align: right;\n",
       "    }\n",
       "</style>\n",
       "<table border=\"1\" class=\"dataframe\">\n",
       "  <thead>\n",
       "    <tr style=\"text-align: right;\">\n",
       "      <th></th>\n",
       "      <th>Pos.</th>\n",
       "      <th>Pilote / Co-pilote</th>\n",
       "      <th>Voiture</th>\n",
       "      <th>#</th>\n",
       "      <th>Temps</th>\n",
       "      <th>Écart</th>\n",
       "    </tr>\n",
       "  </thead>\n",
       "  <tbody>\n",
       "    <tr>\n",
       "      <th>0</th>\n",
       "      <td>1</td>\n",
       "      <td>Sébastien OGIER Vincent LANDAIS</td>\n",
       "      <td>Toyota GR Yaris Rally1 HYBRID</td>\n",
       "      <td>17</td>\n",
       "      <td>01:56:54.8</td>\n",
       "      <td>+00:00:00</td>\n",
       "    </tr>\n",
       "    <tr>\n",
       "      <th>1</th>\n",
       "      <td>2</td>\n",
       "      <td>Kalle ROVANPERÄ Jonne HALTTUNEN</td>\n",
       "      <td>Toyota GR Yaris Rally1 HYBRID</td>\n",
       "      <td>69</td>\n",
       "      <td>01:57:24.8</td>\n",
       "      <td>+00:00:30</td>\n",
       "    </tr>\n",
       "    <tr>\n",
       "      <th>2</th>\n",
       "      <td>3</td>\n",
       "      <td>Thierry NEUVILLE Martijn WYDAEGHE</td>\n",
       "      <td>Hyundai i20 N Rally1 HYBRID</td>\n",
       "      <td>11</td>\n",
       "      <td>01:57:37.2</td>\n",
       "      <td>+00:00:42.4</td>\n",
       "    </tr>\n",
       "    <tr>\n",
       "      <th>3</th>\n",
       "      <td>4</td>\n",
       "      <td>Elfyn EVANS Scott MARTIN</td>\n",
       "      <td>Toyota GR Yaris Rally1 HYBRID</td>\n",
       "      <td>33</td>\n",
       "      <td>01:57:55.6</td>\n",
       "      <td>+00:01:0.8</td>\n",
       "    </tr>\n",
       "    <tr>\n",
       "      <th>4</th>\n",
       "      <td>5</td>\n",
       "      <td>Ott TÄNAK Martin JÄRVEOJA</td>\n",
       "      <td>Ford Puma Rally1 HYBRID</td>\n",
       "      <td>8</td>\n",
       "      <td>01:58:7</td>\n",
       "      <td>+00:01:12.2</td>\n",
       "    </tr>\n",
       "    <tr>\n",
       "      <th>...</th>\n",
       "      <td>...</td>\n",
       "      <td>...</td>\n",
       "      <td>...</td>\n",
       "      <td>...</td>\n",
       "      <td>...</td>\n",
       "      <td>...</td>\n",
       "    </tr>\n",
       "    <tr>\n",
       "      <th>66</th>\n",
       "      <td>67</td>\n",
       "      <td>Marc DESSI Pamela DESSI</td>\n",
       "      <td>Renault Clio RS Line</td>\n",
       "      <td>86</td>\n",
       "      <td>02:50:51.7</td>\n",
       "      <td>+00:53:56.9</td>\n",
       "    </tr>\n",
       "    <tr>\n",
       "      <th>67</th>\n",
       "      <td>68</td>\n",
       "      <td>Olivier BURRI Anderson LEVRATTI</td>\n",
       "      <td>Hyundai i20 N</td>\n",
       "      <td>38</td>\n",
       "      <td>02:57:37.2</td>\n",
       "      <td>+01:00:42.4</td>\n",
       "    </tr>\n",
       "    <tr>\n",
       "      <th>68</th>\n",
       "      <td>69</td>\n",
       "      <td>Giorgio MARAZZATO Elisa SOMMARIVA</td>\n",
       "      <td>Peugeot 208</td>\n",
       "      <td>77</td>\n",
       "      <td>00::48.3</td>\n",
       "      <td>+01:03:53.5</td>\n",
       "    </tr>\n",
       "    <tr>\n",
       "      <th>69</th>\n",
       "      <td>70</td>\n",
       "      <td>Grégory FONTALBA Stéphan HERMET</td>\n",
       "      <td>Alpine A110</td>\n",
       "      <td>65</td>\n",
       "      <td>03:07:26.8</td>\n",
       "      <td>+01:10:32</td>\n",
       "    </tr>\n",
       "    <tr>\n",
       "      <th>70</th>\n",
       "      <td>71</td>\n",
       "      <td>Grégory DAL ZOTTO Hervé DUBREUIL</td>\n",
       "      <td>Peugeot 208 Rally4</td>\n",
       "      <td>70</td>\n",
       "      <td>03:25:42</td>\n",
       "      <td>+01:28:47.2</td>\n",
       "    </tr>\n",
       "  </tbody>\n",
       "</table>\n",
       "<p>71 rows × 6 columns</p>\n",
       "</div>"
      ],
      "text/plain": [
       "   Pos.                  Pilote / Co-pilote                        Voiture  \\\n",
       "0     1     Sébastien OGIER Vincent LANDAIS  Toyota GR Yaris Rally1 HYBRID   \n",
       "1     2     Kalle ROVANPERÄ Jonne HALTTUNEN  Toyota GR Yaris Rally1 HYBRID   \n",
       "2     3   Thierry NEUVILLE Martijn WYDAEGHE    Hyundai i20 N Rally1 HYBRID   \n",
       "3     4            Elfyn EVANS Scott MARTIN  Toyota GR Yaris Rally1 HYBRID   \n",
       "4     5           Ott TÄNAK Martin JÄRVEOJA        Ford Puma Rally1 HYBRID   \n",
       "..  ...                                 ...                            ...   \n",
       "66   67             Marc DESSI Pamela DESSI           Renault Clio RS Line   \n",
       "67   68     Olivier BURRI Anderson LEVRATTI                  Hyundai i20 N   \n",
       "68   69   Giorgio MARAZZATO Elisa SOMMARIVA                    Peugeot 208   \n",
       "69   70     Grégory FONTALBA Stéphan HERMET                    Alpine A110   \n",
       "70   71    Grégory DAL ZOTTO Hervé DUBREUIL             Peugeot 208 Rally4   \n",
       "\n",
       "     #       Temps        Écart  \n",
       "0   17  01:56:54.8    +00:00:00  \n",
       "1   69  01:57:24.8    +00:00:30  \n",
       "2   11  01:57:37.2  +00:00:42.4  \n",
       "3   33  01:57:55.6   +00:01:0.8  \n",
       "4    8     01:58:7  +00:01:12.2  \n",
       "..  ..         ...          ...  \n",
       "66  86  02:50:51.7  +00:53:56.9  \n",
       "67  38  02:57:37.2  +01:00:42.4  \n",
       "68  77    00::48.3  +01:03:53.5  \n",
       "69  65  03:07:26.8    +01:10:32  \n",
       "70  70    03:25:42  +01:28:47.2  \n",
       "\n",
       "[71 rows x 6 columns]"
      ]
     },
     "execution_count": 8,
     "metadata": {},
     "output_type": "execute_result"
    }
   ],
   "source": [
    "monte_2"
   ]
  }
 ],
 "metadata": {
  "kernelspec": {
   "display_name": "Python 3 (ipykernel)",
   "language": "python",
   "name": "python3"
  },
  "language_info": {
   "codemirror_mode": {
    "name": "ipython",
    "version": 3
   },
   "file_extension": ".py",
   "mimetype": "text/x-python",
   "name": "python",
   "nbconvert_exporter": "python",
   "pygments_lexer": "ipython3",
   "version": "3.11.1"
  }
 },
 "nbformat": 4,
 "nbformat_minor": 5
}
